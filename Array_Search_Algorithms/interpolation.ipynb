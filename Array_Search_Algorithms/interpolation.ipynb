{
 "cells": [
  {
   "cell_type": "code",
   "execution_count": null,
   "id": "a0a944c1-7c6a-47bc-8ba9-61da1aae8907",
   "metadata": {},
   "outputs": [
    {
     "name": "stdout",
     "output_type": "stream",
     "text": [
      "Element found at index 4\n"
     ]
    }
   ],
   "source": [
    "def interpolationSearch(arr, lo, hi, x):\n",
    " \n",
    "    # Since array is sorted, an element present in array must be in range defined by corner\n",
    "    if (lo <= hi and x >= arr[lo] and x <= arr[hi]):\n",
    " \n",
    "        # Probing the position with keeping uniform distribution in mind.\n",
    "        pos = lo + ((hi - lo) // (arr[hi] - arr[lo]) *\n",
    "                    (x - arr[lo]))\n",
    " \n",
    "        # Condition of target found\n",
    "        if arr[pos] == x:\n",
    "            return pos\n",
    " \n",
    "        # If x is larger, x is in right subarray\n",
    "        if arr[pos] < x:\n",
    "            return interpolationSearch(arr, pos + 1,\n",
    "                                       hi, x)\n",
    " \n",
    "        # If x is smaller, x is in left subarray\n",
    "        if arr[pos] > x:\n",
    "            return interpolationSearch(arr, lo,\n",
    "                                       pos - 1, x)\n",
    "    return -1\n",
    " \n",
    "# Driver code\n",
    " \n",
    " \n",
    "# Array of items in which search will be conducted\n",
    "arr = [10, 12, 13, 16, 18, 19, 20,\n",
    "       21, 22, 23, 24, 33, 35, 42, 47]\n",
    "n = len(arr)\n",
    " \n",
    "# Element to be searched\n",
    "x = 18\n",
    "index = interpolationSearch(arr, 0, n - 1, x)\n",
    " \n",
    "if index != -1:\n",
    "    print(\"Element found at index\", index)\n",
    "else:\n",
    "    print(\"Element not found\")"
   ]
  },
  {
   "cell_type": "code",
   "execution_count": 21,
   "id": "4258b499-a641-4cd2-a804-71e542fdbc50",
   "metadata": {},
   "outputs": [
    {
     "name": "stdout",
     "output_type": "stream",
     "text": [
      "Element found at index 11\n"
     ]
    }
   ],
   "source": [
    "def interpolationSearch(arr, n, x): \n",
    "   \n",
    "    # Find indexes of two corners \n",
    "    low = 0\n",
    "    high = (n - 1) \n",
    "   \n",
    "    # Since array is sorted, an element present \n",
    "    # in array must be in range defined by corner \n",
    "    while low <= high and x >= arr[low] and x <= arr[high]: \n",
    "        if low == high: \n",
    "            if arr[low] == x: \n",
    "                return low; \n",
    "            return -1; \n",
    "   \n",
    "        # Probing the position with keeping uniform distribution in mind. \n",
    "        pos = int(low + (((float(high - low)/( arr[high] - arr[low])) * (x - arr[low])))) \n",
    "   \n",
    "        # Condition of target found \n",
    "        if arr[pos] == x: \n",
    "            return pos \n",
    "   \n",
    "        # If x is larger, x is in upper part \n",
    "        if arr[pos] < x: \n",
    "            low = pos + 1; \n",
    "   \n",
    "        # If x is smaller, x is in lower part \n",
    "        else: \n",
    "            high = pos - 1; \n",
    "       \n",
    "    return -1\n",
    "\n",
    "arr = [10, 12, 13, 16, 18, 19, 20,\n",
    "       21, 22, 23, 24, 33, 35, 42, 47]\n",
    "n = len(arr)\n",
    "\n",
    "x = 33 # Element to be searched\n",
    "index = interpolationSearch(arr, n, x) \n",
    "   \n",
    "    # If element was found\n",
    "if index != -1: \n",
    "        print (\"Element found at index\",index)\n",
    "else: \n",
    "        print (\"Element not found\")"
   ]
  },
  {
   "cell_type": "code",
   "execution_count": 1,
   "id": "74262b5f",
   "metadata": {},
   "outputs": [
    {
     "name": "stdout",
     "output_type": "stream",
     "text": [
      "10\n",
      "20\n",
      "None\n",
      "Index 0: [['banana', 20], ['cherry', 30]]\n",
      "Index 1: []\n",
      "Index 2: []\n",
      "Index 3: []\n",
      "Index 4: [['apple', 10]]\n",
      "Index 5: []\n",
      "Index 6: []\n",
      "Index 7: []\n",
      "Index 8: []\n",
      "Index 9: []\n",
      "None\n",
      "Total items: 2\n"
     ]
    }
   ],
   "source": [
    "class HashMap:\n",
    "    def __init__(self, size=10):\n",
    "        self.size = size\n",
    "        self.table = [[] for _ in range(size)]  # Using lists for chaining to handle collisions\n",
    "\n",
    "    def _hash(self, key):\n",
    "        # A basic hash function using Python's built-in hash()\n",
    "        return hash(key) % self.size\n",
    "\n",
    "    def insert(self, key, value):\n",
    "        index = self._hash(key)\n",
    "        # Check if the key already exists in the bucket\n",
    "        for kvp in self.table[index]:\n",
    "            if kvp[0] == key:\n",
    "                kvp[1] = value  # Update value if key already exists\n",
    "                return\n",
    "        self.table[index].append([key, value])  # Add new key-value pair\n",
    "\n",
    "    def lookup(self, key):\n",
    "        index = self._hash(key)\n",
    "        for kvp in self.table[index]:\n",
    "            if kvp[0] == key:\n",
    "                return kvp[1]  # Return value if key found\n",
    "        return None  # Return None if key not found\n",
    "\n",
    "    def delete(self, key):\n",
    "        index = self._hash(key)\n",
    "        for i, kvp in enumerate(self.table[index]):\n",
    "            if kvp[0] == key:\n",
    "                del self.table[index][i]  # Remove key-value pair\n",
    "                return True\n",
    "        return False  # Return False if key not found\n",
    "\n",
    "    def display(self):\n",
    "        # Display the hash table for easier visualization\n",
    "        for i, bucket in enumerate(self.table):\n",
    "            print(f\"Index {i}: {bucket}\")\n",
    "\n",
    "    def count_items(self):\n",
    "        # Count the total number of items in the hash table\n",
    "        return sum(len(bucket) for bucket in self.table)\n",
    "# Create a hash map\n",
    "hash_map = HashMap()\n",
    "\n",
    "# Insert key-value pairs\n",
    "hash_map.insert(\"apple\", 10)\n",
    "hash_map.insert(\"banana\", 20)\n",
    "hash_map.insert(\"cherry\", 30)\n",
    "\n",
    "# Lookup values\n",
    "print(hash_map.lookup(\"apple\"))   # Output: 10\n",
    "print(hash_map.lookup(\"banana\"))  # Output: 20\n",
    "print(hash_map.lookup(\"grape\"))   # Output: None\n",
    "\n",
    "# Display the hash map\n",
    "hash_map.display()\n",
    "\n",
    "# Delete a key\n",
    "hash_map.delete(\"banana\")\n",
    "print(hash_map.lookup(\"banana\"))  # Output: None\n",
    "\n",
    "# Count items in the hash map\n",
    "print(\"Total items:\", hash_map.count_items())\n",
    "\n"
   ]
  },
  {
   "cell_type": "code",
   "execution_count": 11,
   "id": "946aa1cf",
   "metadata": {},
   "outputs": [
    {
     "name": "stdout",
     "output_type": "stream",
     "text": [
      "4\n"
     ]
    }
   ],
   "source": [
    "arr = [1, 2, 3, 4, 5, 6, 7, 8, 9, 10 ]\n",
    "def linear_search(arr, target):\n",
    "    for i in range(len(arr)):\n",
    "        if arr[i] == target:\n",
    "            return i\n",
    "    return -1    \n",
    "\n",
    "print(arr[3])"
   ]
  },
  {
   "cell_type": "code",
   "execution_count": 4,
   "id": "144aaa7c",
   "metadata": {},
   "outputs": [
    {
     "name": "stdout",
     "output_type": "stream",
     "text": [
      "10\n"
     ]
    }
   ],
   "source": [
    "arr = [2, 3, 4, 10, 40]\n",
    "\n",
    "def linear_search(arr, target):\n",
    "    for i in range(len(arr)):\n",
    "        if arr[i] == target:\n",
    "            return i  # Target found at index i\n",
    "    return -1  # Target not found\n",
    "print(arr[3])\n"
   ]
  },
  {
   "cell_type": "code",
   "execution_count": 19,
   "id": "8cc3c5c3",
   "metadata": {},
   "outputs": [
    {
     "name": "stdout",
     "output_type": "stream",
     "text": [
      "Element is present at index 4\n"
     ]
    }
   ],
   "source": [
    "def binarySearch(arr, low, high, x):\n",
    "\n",
    "    while low <= high:\n",
    "\n",
    "        mid = low + (high - low) // 2\n",
    "\n",
    "        # Check if x is present at mid\n",
    "        if arr[mid] == x:\n",
    "            return mid\n",
    "\n",
    "        # If x is greater, ignore left half\n",
    "        elif arr[mid] < x:\n",
    "            low = mid + 1\n",
    "\n",
    "        # If x is smaller, ignore right half\n",
    "        else:\n",
    "            high = mid - 1\n",
    "\n",
    "    # If we reach here, then the element was not present\n",
    "    return -1\n",
    "\n",
    "arr = [2, 3, 4, 10, 40]\n",
    "x = 40\n",
    "\n",
    "    # Function call\n",
    "result = binarySearch(arr, 0, len(arr)-1, x)\n",
    "if result != -1:\n",
    "        print(\"Element is present at index\", result)\n",
    "else:\n",
    "        print(\"Element is not present in array\")"
   ]
  },
  {
   "cell_type": "code",
   "execution_count": null,
   "id": "4da785c1",
   "metadata": {},
   "outputs": [
    {
     "name": "stdout",
     "output_type": "stream",
     "text": [
      "Element found at index 11\n"
     ]
    }
   ],
   "source": [
    "def binarySearch(arr, low, high, x):\n",
    "    while low <= high:\n",
    "        mid = low + (high -low)//2\n",
    "        if arr[mid] == x:\n",
    "            return mid\n",
    "        elif arr[mid] < x:\n",
    "            low = mid +1\n",
    "        else: \n",
    "            high = mid -1\n",
    "    return -1\n",
    "        \n",
    "arr = [10, 12, 13, 16, 18, 19, 20,\n",
    "       21, 22, 23, 24, 33, 35, 42, 47] \n",
    "x = 35\n",
    "result = binarySearch(arr, 0, len(arr)-1, x) \n",
    "if result != -1:\n",
    "    print(\"Element found at index\", result) \n",
    "        \n",
    "else:\n",
    "    print(\"Element not present in the array\")             "
   ]
  }
 ],
 "metadata": {
  "kernelspec": {
   "display_name": "Python 3",
   "language": "python",
   "name": "python3"
  },
  "language_info": {
   "codemirror_mode": {
    "name": "ipython",
    "version": 3
   },
   "file_extension": ".py",
   "mimetype": "text/x-python",
   "name": "python",
   "nbconvert_exporter": "python",
   "pygments_lexer": "ipython3",
   "version": "3.12.3"
  }
 },
 "nbformat": 4,
 "nbformat_minor": 5
}
